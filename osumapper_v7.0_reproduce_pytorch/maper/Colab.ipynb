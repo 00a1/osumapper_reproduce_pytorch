{
 "cells": [
  {
   "cell_type": "markdown",
   "metadata": {
    "id": "oEbNGQ2YW5qQ"
   },
   "source": [
    "## osumapper: create osu! map using Tensorflow and Colab\n",
    "\n",
    "For mappers who don't know how this colaboratory thing works:\n",
    "- Press Ctrl+Enter in code blocks to run them one by one\n",
    "- It will ask you to upload .osu file and audio.mp3 after the third block of code\n",
    "- .osu file needs to have correct timing (you can use [statementreply](https://osu.ppy.sh/users/126198)'s TimingAnlyz tool)\n",
    "- After uploading them, wait for a few minutes until download pops\n",
    "\n",
    "Github: https://github.com/kotritrona/osumapper"
   ]
  },
  {
   "cell_type": "markdown",
   "metadata": {
    "id": "S7BsrNAMcdQi"
   },
   "source": [
    "### Step 1: Installation\n",
    "\n",
    "First of all, check the Notebook Settings under Edit tab.<br>\n",
    "Activate GPU to make the training faster.\n",
    "\n",
    "Then, clone the git repository and install dependencies."
   ]
  },
  {
   "cell_type": "code",
   "execution_count": null,
   "metadata": {
    "id": "BCP98K-CBzPl"
   },
   "outputs": [],
   "source": [
    "%cd /content/\n",
    "!git clone https://github.com/kotritrona/osumapper.git\n",
    "%cd osumapper/v7.0\n",
    "!apt install -y ffmpeg\n",
    "!apt install -y nodejs\n",
    "!cp requirements_colab.txt requirements.txt\n",
    "!cp package_colab.json package.json\n",
    "!pip install -r requirements.txt\n",
    "!npm install"
   ]
  },
  {
   "cell_type": "markdown",
   "metadata": {
    "id": "bvpYnPJOYHEc"
   },
   "source": [
    "### Step 2: Choose a pre-trained model\n",
    "Set the select_model variable to one of:\n",
    "- \"default\": default model\n",
    "- \"sota\": model trained with Sota Fujimori music (☆>5.0)\n",
    "- \"vtuber\": model trained with VTuber music (☆4.0-5.3)\n",
    "- \"inst\": model trained with rhythm game instrumental music (☆3.5-6.5)\n",
    "- \"tvsize\": model trained with TV Size maps (☆3.5-5.0 BPM140-190)\n",
    "- \"hard\": model trained with Hard difficulties (☆<3.5 BPM140-190)\n",
    "- \"normal\": model trained with Normal difficulties (☆<2.7 BPM140-190)\n",
    "- \"lowbpm\": model trained with low BPM music (☆3-4.5 BPM<140)\n",
    "- \"taiko\": taiko mode model, experimental (☆3-6)\n",
    "- \"catch\": catch mode model, experimental (☆3-6)"
   ]
  },
  {
   "cell_type": "code",
   "execution_count": null,
   "metadata": {
    "id": "cwnjUK2wNeGb"
   },
   "outputs": [],
   "source": [
    "from setup_colab import *\n",
    "\n",
    "select_model = \"default\"\n",
    "\n",
    "model_params = load_pretrained_model(select_model);"
   ]
  },
  {
   "cell_type": "markdown",
   "metadata": {
    "id": "hG1c_SYbZ2E0"
   },
   "source": [
    "### Step 3: Upload map and music file<br>\n",
    "Map file = .osu file with correct timing<br>\n",
    "Music file = the mp3 file in the osu folder\n"
   ]
  },
  {
   "cell_type": "code",
   "execution_count": null,
   "metadata": {
    "colab": {
     "base_uri": "https://localhost:8080/",
     "height": 168,
     "resources": {
      "http://localhost:8080/nbextensions/google.colab/files.js": {
       "data": "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",
       "headers": [
        [
         "content-type",
         "application/javascript"
        ]
       ],
       "ok": true,
       "status": 200,
       "status_text": "OK"
      }
     }
    },
    "id": "HI5KbB4FTJ4d",
    "outputId": "9c7561b0-59aa-4b22-bac0-b3ee4b3bc64c"
   },
   "outputs": [],
   "source": [
    "from google.colab import files\n",
    "print(\"Please upload the map file:\")\n",
    "mapfile_upload = files.upload()\n",
    "for fn in mapfile_upload.keys():\n",
    "  uploaded_osu_name = fn\n",
    "  print('Uploaded map file: \"{name}\" {length} bytes'.format(name=fn, length=len(mapfile_upload[fn])))\n",
    "print(\"Please upload the music file:\")\n",
    "music_upload = files.upload()\n",
    "for fn in music_upload.keys():\n",
    "  print('Uploaded music file: \"{name}\" {length} bytes'.format(name=fn, length=len(music_upload[fn])))\n"
   ]
  },
  {
   "cell_type": "markdown",
   "metadata": {
    "id": "aCSVs6Std44c"
   },
   "source": [
    "### Step 4: Read the map and convert to python readable format\n",
    "\n"
   ]
  },
  {
   "cell_type": "code",
   "execution_count": null,
   "metadata": {
    "colab": {
     "base_uri": "https://localhost:8080/",
     "height": 35
    },
    "id": "gWEfQqSjbE-C",
    "outputId": "e392da69-38c5-45ac-a8e9-953f1a21276f"
   },
   "outputs": [],
   "source": [
    "from act_newmap_prep import *\n",
    "\n",
    "step4_read_new_map(uploaded_osu_name);"
   ]
  },
  {
   "cell_type": "markdown",
   "metadata": {
    "id": "7tlnx5FleHx-"
   },
   "source": [
    "### Step 5: Use model to calculate map rhythm\n",
    "\n",
    "Parameters:\n",
    "\n",
    "\"note_density\": how many notes will be placed on the timeline, range (0, 1).<br>\n",
    "\"slider_favor\": how the model favors sliders against circles, range (-1.1, 1.1).<br>\n",
    "\"dist_multiplier\": the distance snap. range (0, +∞). Of course 0/+∞ are not advisable.<br>\n",
    "\"divisor_favor\": how the model favors notes to be on each divisor starting from a beat (white, blue, red, blue), range (-1, 1) each.<br>\n",
    "\"slider_max_ticks\": the max amount of time a slider can slide, range (1, +∞)."
   ]
  },
  {
   "cell_type": "code",
   "execution_count": null,
   "metadata": {
    "id": "MIH-5TkFeHWW"
   },
   "outputs": [],
   "source": [
    "from act_rhythm_calc import *\n",
    "\n",
    "model = step5_load_model(model_file=model_params[\"rhythm_model\"]);\n",
    "npz = step5_load_npz();\n",
    "params = model_params[\"rhythm_param\"]\n",
    "# Or set the parameters here...\n",
    "# params = step5_set_params(dist_multiplier=1, note_density=0.32, slider_favor=0, divisor_favor=[0] * 4, slider_max_ticks=8);\n",
    "\n",
    "predictions = step5_predict_notes(model, npz, params);\n",
    "converted = step5_convert_sliders(predictions, params);\n",
    "\n",
    "step5_save_predictions(converted);"
   ]
  },
  {
   "cell_type": "markdown",
   "metadata": {
    "id": "zrIVHZ60fEq1"
   },
   "source": [
    "## Step 6: Map flow generator\n",
    "\n",
    "Generate the final map using a Generative Adversarial Network (GAN).\n",
    "\n",
    "Parameters:\n",
    "\n",
    "\n",
    "- note_distance_basis: the baseline for distance snap between notes\n",
    "- max_ticks_for_ds: max number of time ticks (each 1/4) that it uses the distance snap\n",
    "- next_from_slider_end: use slider end instead of slider head for calculating distance\n",
    "- box_loss_border, box_loss_value: it's like a barrier on the map edges that bounces off the circles\n",
    "- divisor, note_group_size: don't change unless you're using a special model built for it\n",
    "- good_epoch, max_epoch: controls the training time. less time makes it faster but risks less quality\n",
    "- g_\\*, c_\\*: hyperparameters used by GAN. No one knows how they work but they mysterically affect the result"
   ]
  },
  {
   "cell_type": "code",
   "execution_count": null,
   "metadata": {
    "id": "_7w3uQK3fFEH"
   },
   "outputs": [],
   "source": [
    "from act_gan import *;\n",
    "\n",
    "GAN_PARAMS = model_params[\"gan\"]\n",
    "# Or manually set the parameters...\n",
    "# GAN_PARAMS = {\n",
    "#     \"divisor\" : 4,\n",
    "#     \"good_epoch\" : 12,\n",
    "#     \"max_epoch\" : 30,\n",
    "#     \"note_group_size\" : 10,\n",
    "#     \"g_epochs\" : 1,\n",
    "#     \"c_epochs\" : 1,\n",
    "#     \"g_batch\" : 50,\n",
    "#     \"g_input_size\" : 50,\n",
    "#     \"c_true_batch\" : 140,\n",
    "#     \"c_false_batch\" : 5,\n",
    "#     \"c_randfalse_batch\" : 5,\n",
    "#     \"note_distance_basis\" : 200,\n",
    "#     \"next_from_slider_end\" : False,\n",
    "#     \"max_ticks_for_ds\" : 1,\n",
    "#     \"box_loss_border\" : 0.1,\n",
    "#     \"box_loss_value\" : 0.4,\n",
    "#     \"box_loss_weight\" : 1\n",
    "# };\n",
    "\n",
    "step6_set_gan_params(GAN_PARAMS);\n",
    "osu_a, data = step6_run_all(flow_dataset_npz=model_params[\"flow_dataset\"]);"
   ]
  },
  {
   "cell_type": "markdown",
   "metadata": {
    "id": "zMptr6M2fe5l"
   },
   "source": [
    "### Since the generation will take a while...\n",
    "\n",
    "we can appreciate a nice picture of Cute Sophie!!\n",
    "\n",
    "<img src=\"https://i.imgur.com/Ko2wogO.jpg\" />\n",
    "\n"
   ]
  },
  {
   "cell_type": "markdown",
   "metadata": {
    "id": "2GsO_V3of4i2"
   },
   "source": [
    "Do a little modding to the map.\n",
    "\n",
    "Parameters:\n",
    "\n",
    "- stream_regularizer: fix bad streams. integer for modes (0,1,2,3,4) 0=inactive\n",
    "- slider_mirror: mirror slider ends if they go outside map area. (0,1) 0=inactive 1=active"
   ]
  },
  {
   "cell_type": "code",
   "execution_count": null,
   "metadata": {},
   "outputs": [],
   "source": [
    "from act_modding import *\n",
    "\n",
    "modding_params = model_params[\"modding\"]\n",
    "# modding_params = {\n",
    "#     \"stream_regularizer\" : 1,\n",
    "#     \"slider_mirror\" : 1\n",
    "# }\n",
    "\n",
    "osu_a, data = step7_modding(osu_a, data, modding_params);"
   ]
  },
  {
   "cell_type": "markdown",
   "metadata": {},
   "source": [
    "Finally, save the data into an .osu file!"
   ]
  },
  {
   "cell_type": "code",
   "execution_count": null,
   "metadata": {
    "id": "4grDPVPhfeFV"
   },
   "outputs": [],
   "source": [
    "from google.colab import files\n",
    "from act_final import *\n",
    "from act_taiko_hitsounds import *\n",
    "\n",
    "if select_model == \"taiko\":\n",
    "    taiko_hitsounds_params = step8_taiko_hitsounds_set_params(divisor=4, metronome_count=4)\n",
    "    hitsounds = step8_apply_taiko_hitsounds(osu_a, data, hs_dataset=model_params[\"hs_dataset\"], params=taiko_hitsounds_params)\n",
    "    saved_osu_name = step8_save_osu_file(osu_a, data, hitsounds=hitsounds)\n",
    "else:\n",
    "    saved_osu_name = step8_save_osu_file(osu_a, data);\n",
    "\n",
    "files.download(saved_osu_name)"
   ]
  },
  {
   "cell_type": "code",
   "execution_count": null,
   "metadata": {},
   "outputs": [],
   "source": [
    "# clean up if you want to make another map!\n",
    "# colab_clean_up(uploaded_osu_name)"
   ]
  },
  {
   "cell_type": "markdown",
   "metadata": {
    "id": "_suWTENmNd6z"
   },
   "source": [
    "That's it! Now you can try out the AI-created map in osu!.\n",
    "\n",
    "For bug reports and feedbacks either report it on github or use discord: <br>\n",
    "[https://discord.com/invite/npmSy7K](https://discord.com/invite/npmSy7K)"
   ]
  }
 ],
 "metadata": {
  "accelerator": "GPU",
  "colab": {
   "collapsed_sections": [],
   "name": "osumapper Colab.ipynb",
   "provenance": []
  },
  "kernelspec": {
   "display_name": "Python 3",
   "language": "python",
   "name": "python3"
  },
  "language_info": {
   "codemirror_mode": {
    "name": "ipython",
    "version": 3
   },
   "file_extension": ".py",
   "mimetype": "text/x-python",
   "name": "python",
   "nbconvert_exporter": "python",
   "pygments_lexer": "ipython3",
   "version": "3.8.3"
  }
 },
 "nbformat": 4,
 "nbformat_minor": 1
}
